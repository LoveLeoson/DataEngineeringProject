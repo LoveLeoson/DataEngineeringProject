{
 "cells": [
  {
   "cell_type": "code",
   "execution_count": 1,
   "id": "6be268f7-39ce-44d3-b0ad-89f260945e89",
   "metadata": {},
   "outputs": [
    {
     "name": "stderr",
     "output_type": "stream",
     "text": [
      "24/03/06 09:38:18 WARN Utils: Your hostname, group4-0 resolves to a loopback address: 127.0.0.1; using 192.168.2.91 instead (on interface ens3)\n",
      "24/03/06 09:38:18 WARN Utils: Set SPARK_LOCAL_IP if you need to bind to another address\n",
      "Setting default log level to \"WARN\".\n",
      "To adjust logging level use sc.setLogLevel(newLevel). For SparkR, use setLogLevel(newLevel).\n",
      "24/03/06 09:38:19 WARN NativeCodeLoader: Unable to load native-hadoop library for your platform... using builtin-java classes where applicable\n"
     ]
    }
   ],
   "source": [
    "from pyspark.sql import SparkSession\n",
    "\n",
    "spark_session = SparkSession\\\n",
    "        .builder\\\n",
    "        .master(\"spark://hadoop-master:7077\") \\\n",
    "        .appName(\"DE-1-4-SparkSession\")\\\n",
    "        .config(\"spark.dynamicAllocation.enabled\", False)\\\n",
    "        .config(\"spark.executor.instances\", 7) \\\n",
    "        .config(\"spark.dynamicAllocation.shuffleTracking.enabled\",True)\\\n",
    "        .config(\"spark.shuffle.service.enabled\", False)\\\n",
    "        .config(\"spark.dynamicAllocation.executorIdleTimeout\",\"30s\")\\\n",
    "        .config(\"spark.executor.cores\",2)\\\n",
    "        .config(\"spark.driver.port\",9999)\\\n",
    "        .config(\"spark.blockManager.port\",10005)\\\n",
    "        .getOrCreate()"
   ]
  },
  {
   "cell_type": "code",
   "execution_count": 3,
   "id": "dcd1639f-d7dd-4518-919e-4906dbca9f17",
   "metadata": {},
   "outputs": [
    {
     "name": "stderr",
     "output_type": "stream",
     "text": [
      "                                                                                \r"
     ]
    },
    {
     "name": "stdout",
     "output_type": "stream",
     "text": [
      "root\n",
      " |-- author: string (nullable = true)\n",
      " |-- body: string (nullable = true)\n",
      " |-- content: string (nullable = true)\n",
      " |-- content_len: long (nullable = true)\n",
      " |-- id: string (nullable = true)\n",
      " |-- normalizedBody: string (nullable = true)\n",
      " |-- subreddit: string (nullable = true)\n",
      " |-- subreddit_id: string (nullable = true)\n",
      " |-- summary: string (nullable = true)\n",
      " |-- summary_len: long (nullable = true)\n",
      " |-- title: string (nullable = true)\n",
      "\n"
     ]
    }
   ],
   "source": [
    "reddit_df = spark_session.read.json(\"hdfs://localhost:9000/user/ubuntu/corpus-webis-tldr-17.json\")\n",
    "reddit_df.printSchema()"
   ]
  },
  {
   "cell_type": "code",
   "execution_count": 4,
   "id": "7cd40589-e449-4659-93c0-1626c663aa27",
   "metadata": {},
   "outputs": [],
   "source": [
    "path_pos = \"./opinion-lexicon-English/positive-words.txt\"\n",
    "path_neg = \"./opinion-lexicon-English/negative-words.txt\"\n",
    "positive_words = set()\n",
    "negative_words = set()\n",
    "with open(path_pos, 'r', encoding='utf-8') as file:\n",
    "    for line in file:\n",
    "        positive_words.add(line.strip())\n",
    "with open(path_neg, 'r', encoding='utf-8') as file:\n",
    "    for line in file:\n",
    "        negative_words.add(line.strip())"
   ]
  },
  {
   "cell_type": "code",
   "execution_count": 5,
   "id": "1380067e-f8ab-46f1-bcef-cb0cb4a04cf3",
   "metadata": {},
   "outputs": [
    {
     "name": "stdout",
     "output_type": "stream",
     "text": [
      "root\n",
      " |-- content: string (nullable = true)\n",
      " |-- content_len: long (nullable = true)\n",
      " |-- subreddit: string (nullable = true)\n",
      " |-- summary: string (nullable = true)\n",
      " |-- summary_len: long (nullable = true)\n",
      "\n"
     ]
    }
   ],
   "source": [
    "reddit_df = reddit_df.drop(\"author\", \"body\", \"normalizedBody\", \"id\", \"subreddit_id\", \"title\")\n",
    "reddit_df.printSchema()\n"
   ]
  },
  {
   "cell_type": "code",
   "execution_count": 6,
   "id": "5b07fcf6-dd74-480b-a1c0-60a5b1017105",
   "metadata": {},
   "outputs": [],
   "source": [
    "sampled_reddit_df = reddit_df.sample(False, 0.05)\n",
    "sampled_reddit_df = sampled_reddit_df.filter(sampled_reddit_df[\"subreddit\"] != \"NULL\")"
   ]
  },
  {
   "cell_type": "code",
   "execution_count": 9,
   "id": "30421c52-2113-454b-a584-a9d6da873d2a",
   "metadata": {},
   "outputs": [],
   "source": [
    "broadcast_positive_words = spark_session.sparkContext.broadcast(positive_words)\n",
    "broadcast_negative_words = spark_session.sparkContext.broadcast(negative_words)"
   ]
  },
  {
   "cell_type": "code",
   "execution_count": 10,
   "id": "25b72200-7629-43ec-b13f-f0849a1f8571",
   "metadata": {},
   "outputs": [],
   "source": [
    "import re\n",
    "def pre_process(summary):\n",
    "    line = summary.lower()\n",
    "    line = re.sub(r\"[.,]\",'',line).split(\" \")\n",
    "    positive_count = sum([word in broadcast_positive_words.value for word in line])\n",
    "    negative_count = sum([word in broadcast_negative_words.value for word in line])\n",
    "    if positive_count > negative_count:\n",
    "        return (1,positive_count,negative_count, 1)\n",
    "    elif negative_count > positive_count:\n",
    "        return (-1,positive_count,negative_count, 1)\n",
    "    else:\n",
    "        return (0, positive_count, negative_count, 1)\n",
    "    "
   ]
  },
  {
   "cell_type": "code",
   "execution_count": 12,
   "id": "9ad30beb-c3f1-4bd6-892c-d2afd45b701a",
   "metadata": {},
   "outputs": [
    {
     "name": "stdout",
     "output_type": "stream",
     "text": [
      "root\n",
      " |-- content: string (nullable = true)\n",
      " |-- content_len: long (nullable = true)\n",
      " |-- subreddit: string (nullable = true)\n",
      " |-- summary: string (nullable = true)\n",
      " |-- summary_len: long (nullable = true)\n",
      " |-- conotation: struct (nullable = true)\n",
      " |    |-- sentiment: integer (nullable = false)\n",
      " |    |-- positive_count: integer (nullable = false)\n",
      " |    |-- negative_count: integer (nullable = false)\n",
      " |    |-- number_of_tweets: integer (nullable = false)\n",
      "\n"
     ]
    },
    {
     "name": "stderr",
     "output_type": "stream",
     "text": [
      "[Stage 1:>                                                          (0 + 1) / 1]\r"
     ]
    },
    {
     "name": "stdout",
     "output_type": "stream",
     "text": [
      "Row(sentiment=1, positive_count=1, negative_count=0, number_of_tweets=1)\n"
     ]
    },
    {
     "name": "stderr",
     "output_type": "stream",
     "text": [
      "24/03/06 09:48:13 WARN BlockManagerMasterEndpoint: No more replicas available for broadcast_6_python !\n",
      "24/03/06 09:48:13 WARN BlockManagerMasterEndpoint: No more replicas available for broadcast_7_python !\n"
     ]
    }
   ],
   "source": [
    "from pyspark.sql.functions import udf\n",
    "from pyspark.sql.types import StringType, IntegerType, StructType, StructField\n",
    "\n",
    "schema = StructType([\n",
    "    StructField(\"sentiment\", IntegerType(), False),\n",
    "    StructField(\"positive_count\", IntegerType(), False),\n",
    "    StructField(\"negative_count\", IntegerType(), False),\n",
    "    StructField(\"number_of_tweets\", IntegerType(), False)\n",
    "])"
   ]
  },
  {
   "cell_type": "code",
   "execution_count": 29,
   "id": "755b7c2f-86d3-42fb-b071-b8958e82582f",
   "metadata": {},
   "outputs": [
    {
     "name": "stderr",
     "output_type": "stream",
     "text": [
      "                                                                                \r"
     ]
    },
    {
     "data": {
      "text/plain": [
       "[('AskReddit', (1, 1)),\n",
       " ('YouShouldKnow', (1, 1)),\n",
       " ('atheism', (0, 1)),\n",
       " ('todayilearned', (0, 1)),\n",
       " ('festivals', (-1, 1)),\n",
       " ('AskReddit', (1, 1)),\n",
       " ('zelda', (-1, 1)),\n",
       " ('Paleo', (0, 1)),\n",
       " ('AskReddit', (0, 1)),\n",
       " ('gallifrey', (1, 1))]"
      ]
     },
     "execution_count": 29,
     "metadata": {},
     "output_type": "execute_result"
    }
   ],
   "source": [
    "from operator import add\n",
    "import time as time\n",
    "start_time = time.time()\n",
    "conotation_udf = udf(pre_process, schema)\n",
    "reddit_df_conotation = sampled_reddit_df.withColumn(\"conotation\", conotation_udf(\"summary\"))\n",
    "grouped = reddit_df_conotation.rdd.map(lambda x: (x[\"subreddit\"], (x[\"conotation\"][\"sentiment\"], x[\"conotation\"][\"number_of_tweets\"])))\n",
    "grouped = grouped.reduceByKey(lambda a,b: (a[0] + b[0], a[1] + b[1]))\n",
    "grouped.take(1)\n",
    "end_time = time.time()\n",
    "print(f\"Total time: {end_time-start_time} seconds\")"
   ]
  },
  {
   "cell_type": "code",
   "execution_count": 31,
   "id": "39d3642b-cd93-4b0c-aeb9-6f9eae7e83af",
   "metadata": {},
   "outputs": [
    {
     "name": "stderr",
     "output_type": "stream",
     "text": [
      "                                                                                \r"
     ]
    },
    {
     "data": {
      "text/plain": [
       "[('leagueoflegends', (195, 5538)),\n",
       " ('buildapc', (193, 718)),\n",
       " ('summonerschool', (124, 710)),\n",
       " ('personalfinance', (91, 719)),\n",
       " ('magicTCG', (91, 516)),\n",
       " ('photography', (91, 278)),\n",
       " ('malefashionadvice', (82, 275)),\n",
       " ('wow', (74, 656)),\n",
       " ('seduction', (73, 434)),\n",
       " ('DotA2', (72, 1121))]"
      ]
     },
     "execution_count": 31,
     "metadata": {},
     "output_type": "execute_result"
    }
   ],
   "source": [
    "grouped = grouped.sortBy(lambda x: x[1], ascending = False)\n",
    "grouped.take(10)"
   ]
  },
  {
   "cell_type": "code",
   "execution_count": 33,
   "id": "618f1fcb-6f3a-4a70-a6f0-d12559ba71e3",
   "metadata": {},
   "outputs": [
    {
     "name": "stderr",
     "output_type": "stream",
     "text": [
      "                                                                                \r"
     ]
    },
    {
     "data": {
      "text/plain": [
       "[('AskReddit', (-6043, 29300)),\n",
       " ('relationships', (-3739, 17765)),\n",
       " ('tifu', (-907, 2660)),\n",
       " ('relationship_advice', (-374, 2542)),\n",
       " ('trees', (-335, 2373)),\n",
       " ('politics', (-314, 1831)),\n",
       " ('atheism', (-299, 2174)),\n",
       " ('pics', (-294, 1764)),\n",
       " ('WTF', (-287, 1267)),\n",
       " ('funny', (-264, 2002))]"
      ]
     },
     "execution_count": 33,
     "metadata": {},
     "output_type": "execute_result"
    }
   ],
   "source": [
    "grouped = grouped.sortBy(lambda x: x[1], ascending = True)\n",
    "grouped.take(10)"
   ]
  },
  {
   "cell_type": "code",
   "execution_count": 38,
   "id": "f4267b30-a3e0-456b-b1b2-7367ed93f91c",
   "metadata": {},
   "outputs": [
    {
     "name": "stderr",
     "output_type": "stream",
     "text": [
      "                                                                                \r"
     ]
    },
    {
     "data": {
      "text/plain": [
       "[('LiverpoolFC', (13, 51)),\n",
       " ('Surface', (11, 51)),\n",
       " ('gamecollecting', (3, 51)),\n",
       " ('law', (1, 51)),\n",
       " ('italy', (0, 51)),\n",
       " ('4chan', (-7, 51)),\n",
       " ('snowboarding', (14, 52)),\n",
       " ('aspergers', (6, 52)),\n",
       " ('martialarts', (5, 52)),\n",
       " ('Buddhism', (2, 52))]"
      ]
     },
     "execution_count": 38,
     "metadata": {},
     "output_type": "execute_result"
    }
   ],
   "source": [
    "grouped = grouped.filter(lambda x: x[1][1] > 50)\n",
    "grouped = grouped.sortBy(lambda x: x[1][1], ascending = True)\n",
    "grouped.take(10)"
   ]
  },
  {
   "cell_type": "code",
   "execution_count": null,
   "id": "32a46d53-703c-4af3-90e0-b5ae9b763a44",
   "metadata": {},
   "outputs": [],
   "source": []
  }
 ],
 "metadata": {
  "kernelspec": {
   "display_name": "Python 3 (ipykernel)",
   "language": "python",
   "name": "python3"
  },
  "language_info": {
   "codemirror_mode": {
    "name": "ipython",
    "version": 3
   },
   "file_extension": ".py",
   "mimetype": "text/x-python",
   "name": "python",
   "nbconvert_exporter": "python",
   "pygments_lexer": "ipython3",
   "version": "3.8.10"
  }
 },
 "nbformat": 4,
 "nbformat_minor": 5
}
