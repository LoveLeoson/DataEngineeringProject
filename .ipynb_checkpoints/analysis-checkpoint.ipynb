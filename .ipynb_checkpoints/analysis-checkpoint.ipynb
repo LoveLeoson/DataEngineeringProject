{
 "cells": [
  {
   "cell_type": "code",
   "execution_count": 1,
   "id": "6be268f7-39ce-44d3-b0ad-89f260945e89",
   "metadata": {},
   "outputs": [
    {
     "name": "stderr",
     "output_type": "stream",
     "text": [
      "24/03/04 12:02:42 WARN Utils: Your hostname, group4-0 resolves to a loopback address: 127.0.0.1; using 192.168.2.91 instead (on interface ens3)\n",
      "24/03/04 12:02:42 WARN Utils: Set SPARK_LOCAL_IP if you need to bind to another address\n",
      "Setting default log level to \"WARN\".\n",
      "To adjust logging level use sc.setLogLevel(newLevel). For SparkR, use setLogLevel(newLevel).\n",
      "24/03/04 12:02:45 WARN NativeCodeLoader: Unable to load native-hadoop library for your platform... using builtin-java classes where applicable\n"
     ]
    }
   ],
   "source": [
    "from pyspark.sql import SparkSession\n",
    "\n",
    "spark_session = SparkSession\\\n",
    "        .builder\\\n",
    "        .master(\"spark://group4-0:7077\") \\\n",
    "        .appName(\"DE-1-4-SparkSession\")\\\n",
    "        .config(\"spark.dynamicAllocation.enabled\", True)\\\n",
    "        .config(\"spark.dynamicAllocation.shuffleTracking.enabled\",True)\\\n",
    "        .config(\"spark.shuffle.service.enabled\", False)\\\n",
    "        .config(\"spark.dynamicAllocation.executorIdleTimeout\",\"30s\")\\\n",
    "        .config(\"spark.executor.cores\",2)\\\n",
    "        .config(\"spark.driver.port\",9999)\\\n",
    "        .config(\"spark.blockManager.port\",10005)\\\n",
    "        .getOrCreate()"
   ]
  },
  {
   "cell_type": "code",
   "execution_count": 4,
   "id": "dcd1639f-d7dd-4518-919e-4906dbca9f17",
   "metadata": {},
   "outputs": [
    {
     "name": "stderr",
     "output_type": "stream",
     "text": [
      "                                                                                \r"
     ]
    },
    {
     "name": "stdout",
     "output_type": "stream",
     "text": [
      "+------------------+--------------------+--------------------+-----------+-------+--------------------+--------------------+------------+--------------------+-----------+--------+\n",
      "|            author|                body|             content|content_len|     id|      normalizedBody|           subreddit|subreddit_id|             summary|summary_len|   title|\n",
      "+------------------+--------------------+--------------------+-----------+-------+--------------------+--------------------+------------+--------------------+-----------+--------+\n",
      "|  raysofdarkmatter|I think it should...|I think it should...|        178|c69al3r|I think it should...|                math|    t5_2qh0n|Shifting seasonal...|          8|    NULL|\n",
      "|           Stork13|Art is about the ...|Art is about the ...|        148|c6a9nxd|Art is about the ...|               funny|    t5_2qh33|Personal opinions...|          4|    NULL|\n",
      "|     Cloud_dreamer|Ask me what I thi...|Ask me what I thi...|         76|c6acx4l|Ask me what I thi...|         Borderlands|    t5_2r8cd|insults and slack...|         73|    NULL|\n",
      "|     NightlyReaper|In Mechwarrior On...|In Mechwarrior On...|        213|c8onqew|In Mechwarrior On...|            gamingpc|    t5_2sq2y|Yes, Joysticks in...|         19|    NULL|\n",
      "|    NuffZetPand0ra|You are talking a...|You are talking a...|        404|c6acxvc|You are talking a...|              Diablo|    t5_2qore|Class only items ...|          7|D2 help?|\n",
      "|beatlecreedcabaret|All but one of my...|All but one of my...|        130|c6ahuc4|All but one of my...|   RedditLaqueristas|    t5_2se5q|      OPI Nail Envy!|          3|    NULL|\n",
      "|      nobodysdiary|I could give a sh...|I could give a sh...|        156|c6aggux|I could give a sh...|               apple|    t5_2qh1f|I don't drive lik...|         18|    NULL|\n",
      "|          chrom_ed|So you're saying ...|So you're saying ...|        134|c6agxtv|So you're saying ...|               apple|    t5_2qh1f|you don't seem to...|          9|    NULL|\n",
      "|      gadzookfilms|I love this idea ...|I love this idea ...|        126|c6asb7p|I love this idea ...|RedditFilmsProduc...|    t5_2v33h|How we make money...|          9|    NULL|\n",
      "|      iamacannibal|Theres an entire ...|Theres an entire ...|        181|c6aveyw|Theres an entire ...|       AbandonedPorn|    t5_2sh6t|I'll try and get ...|         25|    NULL|\n",
      "| splagaticusxoxo97|FALSE. Evidence: ...|FALSE. Evidence: ...|        124|c6bacqq|FALSE. Evidence: ...|             atheism|    t5_2qh2p|dont fuck with re...|          6|    NULL|\n",
      "|           orthzar|If the number of ...|If the number of ...|         12|c6b83kp|If the number of ...|              quotes|    t5_2qhdx|                  no|          1|    NULL|\n",
      "|          phyzishy|Yeah, but most fo...|Yeah, but most fo...|         75|c6b52m8|Yeah, but most fo...|           AskReddit|    t5_2qh1i|       stupid stuff.|          2|    NULL|\n",
      "|          Wheelman|As an entrepreneu...|As an entrepreneu...|         78|c6b34c2|As an entrepreneu...|     personalfinance|    t5_2qstm|get a good CPA - ...|         14|    NULL|\n",
      "|        slagahthor|i guess the way I...|i guess the way I...|        323|c6b9gqo|i guess the way I...|             Animals|    t5_2qi0c|Dog neglected for...|          7|    NULL|\n",
      "|        Perservere|Didn't they lose ...|Didn't they lose ...|         86|c6bftvc|Didn't they lose ...|     leagueoflegends|    t5_2rfxx|just because you'...|         23|    NULL|\n",
      "|       fallsuspect|You probably won'...|You probably won'...|         79|c6bncqn|You probably won'...|           AskReddit|    t5_2qh1i|just get both of ...|         11|    NULL|\n",
      "|          captain0|To simply say tha...|To simply say tha...|        328|c6btcx4|To simply say tha...|              videos|    t5_2qh1e| Oppan Gangnam Style|          3|    NULL|\n",
      "|    Buck_Speedjunk|This picture does...|This picture does...|         18|c6c4uks|This picture does...|               trees|    t5_2r9vp|It's a half-assed...|         13|    NULL|\n",
      "|        FrankManic|And that is, hand...|And that is, hand...|         57|c6c7pgn|And that is, hand...|               Games|    t5_2qhwp|Play balance is f...|         13|    NULL|\n",
      "+------------------+--------------------+--------------------+-----------+-------+--------------------+--------------------+------------+--------------------+-----------+--------+\n",
      "only showing top 20 rows\n",
      "\n",
      "root\n",
      " |-- author: string (nullable = true)\n",
      " |-- body: string (nullable = true)\n",
      " |-- content: string (nullable = true)\n",
      " |-- content_len: long (nullable = true)\n",
      " |-- id: string (nullable = true)\n",
      " |-- normalizedBody: string (nullable = true)\n",
      " |-- subreddit: string (nullable = true)\n",
      " |-- subreddit_id: string (nullable = true)\n",
      " |-- summary: string (nullable = true)\n",
      " |-- summary_len: long (nullable = true)\n",
      " |-- title: string (nullable = true)\n",
      "\n"
     ]
    }
   ],
   "source": [
    "reddit_df = spark_session.read.json(\"hdfs://localhost:9000/user/ubuntu/corpus-webis-tldr-17.json\")\n",
    "reddit_df.show()\n",
    "reddit_df.printSchema()"
   ]
  },
  {
   "cell_type": "code",
   "execution_count": 6,
   "id": "7cd40589-e449-4659-93c0-1626c663aa27",
   "metadata": {},
   "outputs": [],
   "source": [
    "path_pos = \"./opinion-lexicon-English/positive-words.txt\"\n",
    "path_neg = \"./opinion-lexicon-English/negative-words.txt\"\n",
    "positive_words = set()\n",
    "negative_words = set()\n",
    "with open(path_pos, 'r', encoding='utf-8') as file:\n",
    "    for line in file:\n",
    "        positive_words.add(line.strip())\n",
    "with open(path_neg, 'r', encoding='utf-8') as file:\n",
    "    for line in file:\n",
    "        negative_words.add(line.strip())"
   ]
  },
  {
   "cell_type": "code",
   "execution_count": 8,
   "id": "7de81bb4-fafe-4368-ad41-4f557e56683f",
   "metadata": {},
   "outputs": [
    {
     "name": "stdout",
     "output_type": "stream",
     "text": [
      "Row(author='raysofdarkmatter', body=\"I think it should be fixed on either UTC standard or UTC+1 year around, with the current zone offsets.\\n\\nMoving timescales add a lot of complexity to the implementation of timekeeping systems and have [dubious value]( \\n\\nI think seasonal shifting time made sense in the pre-electric past, when timekeeping was more flexible and artificial light was inefficient and often dangerous. \\n\\nNow we have machines that work easily with simple timekeeping rules, and it's more beneficial to spend a small amount on energy for lighting, and save the larger cost of engineering things to work with the complex timekeeping rules, as well as saving the irritation to humans.\\n\\nLighting has gotten much more efficient over time; we can squeeze out a lot more photons per unit of energy from a 2012 CFL or LED than a candle could in 1780, or a lightbulb could in 1950. \\n\\nThere's a lot of room for improvement in how we use lights as well; as lighting control gets more intelligent, there will be a lot of savings from not illuminating inactive spaces constantly.\\n\\ntl;dr: Shifting seasonal time is no longer worth it.\", content=\"I think it should be fixed on either UTC standard or UTC+1 year around, with the current zone offsets. \\n Moving timescales add a lot of complexity to the implementation of timekeeping systems and have [dubious value]( \\n I think seasonal shifting time made sense in the pre-electric past, when timekeeping was more flexible and artificial light was inefficient and often dangerous. \\n Now we have machines that work easily with simple timekeeping rules, and it's more beneficial to spend a small amount on energy for lighting, and save the larger cost of engineering things to work with the complex timekeeping rules, as well as saving the irritation to humans. \\n Lighting has gotten much more efficient over time; we can squeeze out a lot more photons per unit of energy from a 2012 CFL or LED than a candle could in 1780, or a lightbulb could in 1950. \\n There's a lot of room for improvement in how we use lights as well; as lighting control gets more intelligent, there will be a lot of savings from not illuminating inactive spaces constantly.\", content_len=178, id='c69al3r', normalizedBody=\"I think it should be fixed on either UTC standard or UTC+1 year around, with the current zone offsets. \\n Moving timescales add a lot of complexity to the implementation of timekeeping systems and have [dubious value]( \\n I think seasonal shifting time made sense in the pre-electric past, when timekeeping was more flexible and artificial light was inefficient and often dangerous. \\n Now we have machines that work easily with simple timekeeping rules, and it's more beneficial to spend a small amount on energy for lighting, and save the larger cost of engineering things to work with the complex timekeeping rules, as well as saving the irritation to humans. \\n Lighting has gotten much more efficient over time; we can squeeze out a lot more photons per unit of energy from a 2012 CFL or LED than a candle could in 1780, or a lightbulb could in 1950. \\n There's a lot of room for improvement in how we use lights as well; as lighting control gets more intelligent, there will be a lot of savings from not illuminating inactive spaces constantly. \\n tl;dr: Shifting seasonal time is no longer worth it. \\n\", subreddit='math', subreddit_id='t5_2qh0n', summary='Shifting seasonal time is no longer worth it.', summary_len=8, title=None)\n"
     ]
    }
   ],
   "source": [
    "print(reddit_df.first())"
   ]
  },
  {
   "cell_type": "code",
   "execution_count": 7,
   "id": "1380067e-f8ab-46f1-bcef-cb0cb4a04cf3",
   "metadata": {},
   "outputs": [
    {
     "name": "stdout",
     "output_type": "stream",
     "text": [
      "root\n",
      " |-- content: string (nullable = true)\n",
      " |-- content_len: long (nullable = true)\n",
      " |-- subreddit: string (nullable = true)\n",
      " |-- summary: string (nullable = true)\n",
      " |-- summary_len: long (nullable = true)\n",
      "\n"
     ]
    }
   ],
   "source": [
    "reddit_df = reddit_df.drop(\"author\", \"body\", \"normalizedBody\", \"id\", \"subreddit_id\", \"title\")\n",
    "reddit_df.printSchema()\n"
   ]
  },
  {
   "cell_type": "code",
   "execution_count": 8,
   "id": "5b07fcf6-dd74-480b-a1c0-60a5b1017105",
   "metadata": {},
   "outputs": [],
   "source": [
    "sampled_reddit_df = reddit_df.sample(False, 0.05)\n",
    "sampled_reddit_df = sampled_reddit_df.filter(sampled_reddit_df[\"subreddit\"] != \"NULL\")"
   ]
  },
  {
   "cell_type": "code",
   "execution_count": 9,
   "id": "30421c52-2113-454b-a584-a9d6da873d2a",
   "metadata": {},
   "outputs": [],
   "source": [
    "broadcast_positive_words = spark_session.sparkContext.broadcast(positive_words)\n",
    "broadcast_negative_words = spark_session.sparkContext.broadcast(negative_words)"
   ]
  },
  {
   "cell_type": "code",
   "execution_count": 10,
   "id": "25b72200-7629-43ec-b13f-f0849a1f8571",
   "metadata": {},
   "outputs": [],
   "source": [
    "import re\n",
    "def pre_process(summary):\n",
    "    line = summary.lower()\n",
    "    line = re.sub(r\"[.,]\",'',line).split(\" \")\n",
    "    positive_count = sum([word in broadcast_positive_words.value for word in line])\n",
    "    negative_count = sum([word in broadcast_negative_words.value for word in line])\n",
    "    if positive_count > negative_count:\n",
    "        return (1,positive_count,negative_count)\n",
    "    elif negative_count > positive_count:\n",
    "        return (-1,positive_count,negative_count)\n",
    "    else:\n",
    "        return (0, positive_count, negative_count)\n",
    "    "
   ]
  },
  {
   "cell_type": "code",
   "execution_count": 11,
   "id": "9ad30beb-c3f1-4bd6-892c-d2afd45b701a",
   "metadata": {},
   "outputs": [
    {
     "name": "stdout",
     "output_type": "stream",
     "text": [
      "root\n",
      " |-- content: string (nullable = true)\n",
      " |-- content_len: long (nullable = true)\n",
      " |-- subreddit: string (nullable = true)\n",
      " |-- summary: string (nullable = true)\n",
      " |-- summary_len: long (nullable = true)\n",
      " |-- conotation: struct (nullable = true)\n",
      " |    |-- sentiment: integer (nullable = false)\n",
      " |    |-- positive_count: integer (nullable = false)\n",
      " |    |-- negative_count: integer (nullable = false)\n",
      "\n"
     ]
    },
    {
     "name": "stderr",
     "output_type": "stream",
     "text": [
      "[Stage 2:>                                                          (0 + 1) / 1]\r"
     ]
    },
    {
     "name": "stdout",
     "output_type": "stream",
     "text": [
      "Row(sentiment=-1, positive_count=0, negative_count=1)\n"
     ]
    },
    {
     "name": "stderr",
     "output_type": "stream",
     "text": [
      "                                                                                \r"
     ]
    }
   ],
   "source": [
    "from pyspark.sql.functions import udf\n",
    "from pyspark.sql.types import StringType, IntegerType, StructType, StructField\n",
    "\n",
    "schema = StructType([\n",
    "    StructField(\"sentiment\", IntegerType(), False),\n",
    "    StructField(\"positive_count\", IntegerType(), False),\n",
    "    StructField(\"negative_count\", IntegerType(), False)\n",
    "])\n",
    "\n",
    "conotation_udf = udf(pre_process, schema)\n",
    "reddit_df_conotation = sampled_reddit_df.withColumn(\"conotation\", conotation_udf(\"summary\"))\n",
    "reddit_df_conotation.printSchema()\n",
    "print(reddit_df_conotation.first()['conotation'])"
   ]
  },
  {
   "cell_type": "code",
   "execution_count": 113,
   "id": "3423ffcc-2032-4e9b-9b10-e37fad257b1c",
   "metadata": {},
   "outputs": [
    {
     "name": "stdout",
     "output_type": "stream",
     "text": [
      "Row(sentiment=0, positive_count=0, negative_count=0)\n",
      "Class only items dropped from high-lvl monsters.\n",
      "Row(sentiment=0, positive_count=0, negative_count=0)\n",
      "OPI Nail Envy!\n",
      "Row(sentiment=1, positive_count=2, negative_count=1)\n",
      "get a good CPA - they aren't that expensive but are 100% worth it\n",
      "Row(sentiment=0, positive_count=1, negative_count=1)\n",
      "just because you're close \"at times\" doesn't mean you didn't get stomped in a best of 5 that you lost 6 games in.\n",
      "Row(sentiment=0, positive_count=0, negative_count=0)\n",
      "It's a half-assed fan-art that literally put effort into one-half of the picture.\n",
      "Row(sentiment=0, positive_count=0, negative_count=0)\n",
      "it is possible to be in a race you didnt know you were in.\n",
      "Row(sentiment=-1, positive_count=4, negative_count=12)\n",
      "As if Sweep/Smash spec wasn't already borderline OP in PvP, prepare to see a lot more of them come 1.4 buffs. \n",
      " EDIT: Don't want to give the impression that I thought Focus spec was totally and absolutely broken. It does have weaknesses like lack of sustain and nothing to really fall back on if Smash doesn't hit (at least till the next cooldown). Also it's one of those specs that is very gear dependent, meaning with bad gear, it is very very bad because of the weaknesses above. But it's also a spec that gets exponentially better once you have awesome gear because everything is focused down to a single bursty AOE attack that automatically crits and is kinetic damage so Knights can completely ignore accuracy and crit rating and stack main stat, power, and surge (which explains the 6.7k+ hits). So again, didn't think it was broken, but did think it was a bit too strong pre 1.4. And now it's getting buffed. Sadface.jpg\n",
      "Row(sentiment=1, positive_count=2, negative_count=0)\n",
      "I get you think that through some fancy hand-waving suggesting the guy is gay (whether to his face or to each other) has some use.  I'm simply asking you to present evidence or a reasonable argument. \n",
      " I'm still waiting.\n",
      "Row(sentiment=1, positive_count=2, negative_count=1)\n",
      "is I'm all for it being somewhat more easily accessible than it was then, but if it's the same pill, it's definitely a hormonal whopper with side effects. \n",
      " Second edit: Thanks to everyone who actually sent me thoughtful replies instead of going \"no she's wrong, downvote herp derp\".\n",
      "Row(sentiment=0, positive_count=0, negative_count=0)\n",
      "My 10 month old molests a 5 year old. >>\n"
     ]
    }
   ],
   "source": [
    "for i in reddit_df_conotation.take(10):\n",
    "    print(i['conotation'])\n",
    "    #print(f\"Positive count: {i['conotation']['positive_count']}, negative count: {i['conotation']['negative_count']}\")\n",
    "    print(i['summary'])"
   ]
  },
  {
   "cell_type": "code",
   "execution_count": 12,
   "id": "755b7c2f-86d3-42fb-b071-b8958e82582f",
   "metadata": {},
   "outputs": [
    {
     "name": "stderr",
     "output_type": "stream",
     "text": [
      "                                                                                \r"
     ]
    },
    {
     "data": {
      "text/plain": [
       "[('linux', -1),\n",
       " ('uwaterloo', 1),\n",
       " ('AskReddit', 0),\n",
       " ('AskReddit', 0),\n",
       " ('funny', 0),\n",
       " ('minimalism', -1),\n",
       " ('gardening', 0),\n",
       " ('funny', 1),\n",
       " ('orlando', -1),\n",
       " ('leagueoflegends', 0)]"
      ]
     },
     "execution_count": 12,
     "metadata": {},
     "output_type": "execute_result"
    }
   ],
   "source": [
    "grouped = reddit_df_conotation.rdd.map(lambda x: (x[\"subreddit\"], x[\"conotation\"][\"sentiment\"]))\n",
    "grouped.take(10)"
   ]
  },
  {
   "cell_type": "code",
   "execution_count": 13,
   "id": "1cb5402f-f042-4733-b636-b7367547c644",
   "metadata": {},
   "outputs": [
    {
     "name": "stderr",
     "output_type": "stream",
     "text": [
      "                                                                                \r"
     ]
    },
    {
     "data": {
      "text/plain": [
       "[('KerbalSpaceProgram', 2)]"
      ]
     },
     "execution_count": 13,
     "metadata": {},
     "output_type": "execute_result"
    }
   ],
   "source": [
    "from operator import add\n",
    "grouped = grouped.reduceByKey(add)\n",
    "grouped.take(1)"
   ]
  },
  {
   "cell_type": "code",
   "execution_count": 17,
   "id": "39d3642b-cd93-4b0c-aeb9-6f9eae7e83af",
   "metadata": {},
   "outputs": [
    {
     "name": "stderr",
     "output_type": "stream",
     "text": [
      "                                                                                \r"
     ]
    },
    {
     "data": {
      "text/plain": [
       "[('leagueoflegends', 337),\n",
       " ('buildapc', 217),\n",
       " ('summonerschool', 152),\n",
       " ('starcraft', 89),\n",
       " ('electronic_cigarette', 87),\n",
       " ('seduction', 85),\n",
       " ('malefashionadvice', 78),\n",
       " ('magicTCG', 72),\n",
       " ('DotA2', 67),\n",
       " ('Guitar', 58)]"
      ]
     },
     "execution_count": 17,
     "metadata": {},
     "output_type": "execute_result"
    }
   ],
   "source": [
    "grouped = grouped.sortBy(lambda x: x[1], ascending = False)\n",
    "grouped.take(10)"
   ]
  },
  {
   "cell_type": "code",
   "execution_count": 18,
   "id": "618f1fcb-6f3a-4a70-a6f0-d12559ba71e3",
   "metadata": {},
   "outputs": [
    {
     "name": "stderr",
     "output_type": "stream",
     "text": [
      "                                                                                \r"
     ]
    },
    {
     "data": {
      "text/plain": [
       "[('AskReddit', -6103),\n",
       " ('relationships', -3749),\n",
       " ('tifu', -869),\n",
       " ('relationship_advice', -379),\n",
       " ('WTF', -348),\n",
       " ('funny', -324),\n",
       " ('trees', -302),\n",
       " ('offmychest', -256),\n",
       " ('atheism', -256),\n",
       " ('depression', -248)]"
      ]
     },
     "execution_count": 18,
     "metadata": {},
     "output_type": "execute_result"
    }
   ],
   "source": [
    "grouped = grouped.sortBy(lambda x: x[1], ascending = True)\n",
    "grouped.take(10)"
   ]
  },
  {
   "cell_type": "code",
   "execution_count": null,
   "id": "66f5a972-28f7-4ebe-aab5-c715a15f95f4",
   "metadata": {},
   "outputs": [],
   "source": []
  }
 ],
 "metadata": {
  "kernelspec": {
   "display_name": "Python 3 (ipykernel)",
   "language": "python",
   "name": "python3"
  },
  "language_info": {
   "codemirror_mode": {
    "name": "ipython",
    "version": 3
   },
   "file_extension": ".py",
   "mimetype": "text/x-python",
   "name": "python",
   "nbconvert_exporter": "python",
   "pygments_lexer": "ipython3",
   "version": "3.8.10"
  }
 },
 "nbformat": 4,
 "nbformat_minor": 5
}
